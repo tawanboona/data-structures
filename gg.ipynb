{
 "cells": [
  {
   "cell_type": "code",
   "execution_count": 2,
   "id": "2744e5d0",
   "metadata": {},
   "outputs": [
    {
     "name": "stdout",
     "output_type": "stream",
     "text": [
      "หน่อยล่านก\n",
      "ความยาวข้อความ: 10\n",
      "คำที่ค้นหา: หน่อย\n",
      "จำนวนที่พบ: 1\n",
      "ตำแหน่งที่พบครั้งแรก: 0\n",
      "คำที่ขึ้นต้นด้วย 'ห' : ['หน่อยล่านก']\n",
      "คำที่ลงท้ายด้วย 'ก' : ['หน่อยล่านก']\n"
     ]
    }
   ],
   "source": [
    "# input data\n",
    "text = input(\"Enter your text: \")\n",
    "print(text)\n",
    "print(\"ความยาวข้อความ:\", len(text))\n",
    "\n",
    "# คำที่ต้องการค้นหา\n",
    "cou = input(\"คำที่ต้องการค้นหาจากข้อมูลที่กรอกด้านบน: \")\n",
    "print(\"คำที่ค้นหา:\", cou)\n",
    "\n",
    "# จำนวนและตำแหน่งที่พบคำ\n",
    "poli = text.count(cou)\n",
    "print(\"จำนวนที่พบ:\", poli)\n",
    "\n",
    "position = text.find(cou)\n",
    "print(\"ตำแหน่งที่พบครั้งแรก:\", position)\n",
    "\n",
    "# ค้นหาคำที่ขึ้นต้น / ลงท้ายด้วยตัวอักษร\n",
    "start_char = input(\"ระบุตัวอักษรที่ต้องการค้นหาคำที่ขึ้นต้นด้วย: \").lower()\n",
    "end_char = input(\"ระบุตัวอักษรที่ต้องการค้นหาคำที่ลงท้ายด้วย: \").lower()\n",
    "\n",
    "words = text.split()  # แยกคำจากข้อความ\n",
    "\n",
    "# หาเฉพาะคำที่ขึ้นต้นด้วย start_char\n",
    "start_words = [word for word in words if word.lower().startswith(start_char)]\n",
    "\n",
    "# หาเฉพาะคำที่ลงท้ายด้วย end_char\n",
    "end_words = [word for word in words if word.lower().endswith(end_char)]\n",
    "\n",
    "# แสดงผล (ไม่ใช้ .format())\n",
    "print(\"คำที่ขึ้นต้นด้วย '\" + start_char + \"' :\", start_words)\n",
    "print(\"คำที่ลงท้ายด้วย '\" + end_char + \"' :\", end_words)\n"
   ]
  }
 ],
 "metadata": {
  "kernelspec": {
   "display_name": "Python 3",
   "language": "python",
   "name": "python3"
  },
  "language_info": {
   "codemirror_mode": {
    "name": "ipython",
    "version": 3
   },
   "file_extension": ".py",
   "mimetype": "text/x-python",
   "name": "python",
   "nbconvert_exporter": "python",
   "pygments_lexer": "ipython3",
   "version": "3.11.9"
  }
 },
 "nbformat": 4,
 "nbformat_minor": 5
}
