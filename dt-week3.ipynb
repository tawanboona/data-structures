{
 "cells": [
  {
   "cell_type": "code",
   "execution_count": null,
   "id": "7b1e4ea6",
   "metadata": {},
   "outputs": [
    {
     "name": "stdout",
     "output_type": "stream",
     "text": [
      "4\n"
     ]
    }
   ],
   "source": [
    "#\n",
    "text = \"ช่างหน่อยเป็นช่างที่โกหกลูกค้าตาดำๆ\"\n",
    "position = text.find(\"หน่อย\")\n",
    "print(position)"
   ]
  },
  {
   "cell_type": "code",
   "execution_count": null,
   "id": "7810d890",
   "metadata": {},
   "outputs": [
    {
     "name": "stdout",
     "output_type": "stream",
     "text": [
      "['ฉันชอบกินไก่KFCซค่งมีหลายเมานูเช่นไก่ป๊อปลาบเเละอื่นๆ']\n"
     ]
    }
   ],
   "source": [
    "text = (\"ฉันชอบกินไก่KFCซึ่งมีหลายเมนูเช่นไก่ป๊อปลาบเเละอื่นๆ\")\n",
    "words = text.split()\n",
    "print(words)"
   ]
  },
  {
   "cell_type": "code",
   "execution_count": 41,
   "id": "a83b1e2b",
   "metadata": {},
   "outputs": [
    {
     "name": "stdout",
     "output_type": "stream",
     "text": [
      "['ฉันชอบกินไก่', 'KFC', 'ซึ่งมีหลายเมนู', 'เช่น', 'ไก่ป๊อป', 'ลาบ', 'เเละอื่นๆ']\n"
     ]
    }
   ],
   "source": [
    "text = (\"ฉันชอบกินไก่ KFC ซึ่งมีหลายเมนู เช่น ไก่ป๊อป ลาบ เเละอื่นๆ\")\n",
    "words = text.split()\n",
    "print(words)"
   ]
  },
  {
   "cell_type": "code",
   "execution_count": null,
   "id": "d20f4eb3",
   "metadata": {},
   "outputs": [
    {
     "name": "stdout",
     "output_type": "stream",
     "text": [
      "catวิ่ง catกระโดด catวิ่งหนี catโดนไล่ หมาวิ่งไล่cat\n"
     ]
    }
   ],
   "source": [
    "#\n",
    "text = \"เเมววิ่ง เเมวกระโดด เเมววิ่งหนี เเมวโดนไล่ หมาวิ่งไล่เเมว\"\n",
    "new_text = text.replace(\"เเมว\",\"cat\")\n",
    "print(new_text)"
   ]
  },
  {
   "cell_type": "code",
   "execution_count": 29,
   "id": "682e1143",
   "metadata": {},
   "outputs": [
    {
     "name": "stdout",
     "output_type": "stream",
     "text": [
      "8\n",
      "2\n",
      "<class 'str'>\n",
      "<class 'set'>\n"
     ]
    }
   ],
   "source": [
    "#Len Funtion\n",
    "text = \"เเมว หมา\"\n",
    "print(len(text))\n",
    "\n",
    "word1 = [\"หมา\",\"เเมว\",\"เสือ\",\"สิงโต\"]\n",
    "word2 = {\"หมา\",\"เเมว\",\"เสือ\",\"สิงโต\"}\n",
    "word3 = {\"key\":\"data-type\", \"value\":1}\n",
    "print(len(word3))\n",
    "\n",
    "print(type(text))\n",
    "print(type(word2))"
   ]
  },
  {
   "cell_type": "code",
   "execution_count": null,
   "id": "977f0e32",
   "metadata": {},
   "outputs": [
    {
     "name": "stdout",
     "output_type": "stream",
     "text": [
      "you never work alone\n"
     ]
    }
   ],
   "source": [
    "#Lower\n",
    "text = \"You Never Walk Alone\"\n",
    "print(text.lower())"
   ]
  },
  {
   "cell_type": "code",
   "execution_count": 31,
   "id": "7438bc51",
   "metadata": {},
   "outputs": [
    {
     "name": "stdout",
     "output_type": "stream",
     "text": [
      "YOU NEVER WALK ALONE\n"
     ]
    }
   ],
   "source": [
    "#Upper\n",
    "text = \"You Never Walk Alone\"\n",
    "print(text.upper())"
   ]
  },
  {
   "cell_type": "code",
   "execution_count": null,
   "id": "f15c126e",
   "metadata": {},
   "outputs": [
    {
     "name": "stdout",
     "output_type": "stream",
     "text": [
      "เก่า =>  76\n",
      "ใหม่ =>  65\n"
     ]
    }
   ],
   "source": [
    "#Strip\n",
    "text = \"   >>> วันนี้วันดี ที่เราได้มาพบกัน วันนี้ วันจันทร์ มีตลาดมืดนะ +++        \"\n",
    "new_text = text.strip()\n",
    "print(\"เก่า => \", len(text))\n",
    "print(\"ใหม่ => \", len(new_text))"
   ]
  },
  {
   "cell_type": "code",
   "execution_count": 65,
   "id": "e444b51c",
   "metadata": {},
   "outputs": [
    {
     "name": "stdout",
     "output_type": "stream",
     "text": [
      "หมาวิ่งหมาไล่หมากัด\n",
      "19\n",
      "หมา\n",
      "3\n",
      "เเสดงตำเเหน่งของคำว่า'หมา':[0, 7, 13]\n",
      "ตัวอักษรแรกของข้อความคือ: ห\n",
      "ตัวอักษรสุดท้ายของข้อความคือ: ด\n"
     ]
    }
   ],
   "source": [
    "#input data\n",
    "text = input(\"Enter your text :\")\n",
    "print(text)\n",
    "print(len(text))\n",
    "cou = input(\"คำที่ต้องการค้นหาจากข้อมูลที่กอกด้านบน : \")\n",
    "print(cou)\n",
    "poli = text.count(cou)\n",
    "print(poli)\n",
    "\n",
    "positions = []\n",
    "index = text.find(cou)\n",
    "while index != -1 :\n",
    "    positions.append(index)\n",
    "    index = text.find(cou, index + 1)\n",
    "    \n",
    "print(f\"เเสดงตำเเหน่งของคำว่า'{cou}':{positions}\")\n",
    "    \n",
    "first_char = text[0].lower()\n",
    "last_char = text[-1].lower()\n",
    "\n",
    "words = text.split()\n",
    "\n",
    "start_words = [word for word in words if word.lower().startswith(first_char)]\n",
    "\n",
    "end_words = [word for word in words if word.lower().endswith(last_char)]\n",
    "\n",
    "\n",
    "print(\"ตัวอักษรแรกของข้อความคือ:\", first_char)\n",
    "\n",
    "print(\"ตัวอักษรสุดท้ายของข้อความคือ:\", last_char)\n",
    "\n"
   ]
  }
 ],
 "metadata": {
  "kernelspec": {
   "display_name": "Python 3",
   "language": "python",
   "name": "python3"
  },
  "language_info": {
   "codemirror_mode": {
    "name": "ipython",
    "version": 3
   },
   "file_extension": ".py",
   "mimetype": "text/x-python",
   "name": "python",
   "nbconvert_exporter": "python",
   "pygments_lexer": "ipython3",
   "version": "3.11.9"
  }
 },
 "nbformat": 4,
 "nbformat_minor": 5
}
